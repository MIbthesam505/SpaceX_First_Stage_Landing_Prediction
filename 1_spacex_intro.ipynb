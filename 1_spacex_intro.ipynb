{
  "cells": [
    {
      "cell_type": "markdown",
      "metadata": {},
      "source": [
        "# SpaceX Falcon 9 first stage Landing Prediction by Muhammad Ibthesam"
      ]
    },
    {
      "cell_type": "markdown",
      "metadata": {},
      "source": [
        "In this capstone project, our objective is to predict whether the Falcon 9 first stage will successfully land after launch. This is an important problem because the ability to reuse the first stage of the Falcon 9 rocket is the main reason behind SpaceX’s competitive pricing.\n",
        "\n",
        "Currently, SpaceX advertises Falcon 9 rocket launches at approximately 62 million dollars per launch, which is significantly lower compared to other providers whose costs can exceed 165 million dollars. The key to this cost reduction lies in reusability—when the first stage lands successfully, it can be refurbished and flown again, drastically lowering future mission costs.\n",
        "\n",
        "By predicting the success of a Falcon 9 first-stage landing, we can gain valuable insights into the economics of rocket launches. This prediction can be particularly useful for competitors and organizations looking to bid against SpaceX in the commercial space market. Understanding the likelihood of a successful landing helps estimate the true cost of a launch, giving potential clients a clearer picture of what they are paying for.\n",
        "\n",
        "In this lab, we will:\n",
        "\n",
        "Collect launch data from public APIs and datasets.\n",
        "\n",
        "Clean and preprocess the data into a usable format.\n",
        "\n",
        "Analyze patterns between launch characteristics (such as payload, orbit, launch site, and booster version) and landing outcomes.\n",
        "\n",
        "Build predictive models to determine whether a Falcon 9 first stage is likely to land successfully."
      ]
    }
  ],
  "metadata": {
    "kernelspec": {
      "display_name": "Python (Pyodide)",
      "language": "python",
      "name": "python"
    },
    "language_info": {
      "codemirror_mode": {
        "name": "python",
        "version": 3
      },
      "file_extension": ".py",
      "mimetype": "text/x-python",
      "name": "python",
      "nbconvert_exporter": "python",
      "pygments_lexer": "ipython3",
      "version": "3.8"
    }
  },
  "nbformat": 4,
  "nbformat_minor": 4
}
