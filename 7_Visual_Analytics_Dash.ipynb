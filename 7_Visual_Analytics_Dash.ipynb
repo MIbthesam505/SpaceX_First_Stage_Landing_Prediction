{
 "cells": [
  {
   "cell_type": "markdown",
   "id": "8c2d8d05",
   "metadata": {},
   "source": [
    "# SpaceX Launch Records Dashboard\n",
    "This notebook builds a Dash app for visualizing SpaceX launch data."
   ]
  },
  {
   "cell_type": "code",
   "execution_count": 1,
   "id": "d0ba1648",
   "metadata": {},
   "outputs": [],
   "source": [
    "\n",
    "import pandas as pd\n",
    "import plotly.express as px\n",
    "#Dash imports (compatible with Dash 2.x+)\n",
    "try:\n",
    "    from dash import Dash, html, dcc\n",
    "except ImportError:\n",
    "    import dash\n",
    "    import dash_html_components as html\n",
    "    import dash_core_components as dcc\n",
    "    from dash.dependencies import Input, Output\n",
    "    Dash = dash.Dash\n",
    "else:\n",
    "    from dash.dependencies import Input, Output\n",
    "\n",
    "# Load dataset\n",
    "spacex_data_frame = pd.read_csv(\"spacex_launch_dash.csv\")\n",
    "max_payload = spacex_data_frame['Payload Mass (kg)'].max()\n",
    "min_payload = spacex_data_frame['Payload Mass (kg)'].min()\n",
    "\n",
    "# Create Dash app\n",
    "app = Dash(__name__)\n"
   ]
  },
  {
   "cell_type": "markdown",
   "id": "962a05ed",
   "metadata": {},
   "source": [
    "## App Layout"
   ]
  },
  {
   "cell_type": "code",
   "execution_count": 2,
   "id": "70f47c06",
   "metadata": {},
   "outputs": [],
   "source": [
    "\n",
    "app.layout = html.Div([\n",
    "    html.H1('SpaceX Launch Records Dashboard', style={'textAlign': 'center'}),\n",
    "\n",
    "    # TASK 1: Dropdown for Launch Site selection\n",
    "    dcc.Dropdown(\n",
    "        id='site-dropdown',\n",
    "        options=[\n",
    "            {'label': 'All Sites', 'value': 'ALL'},\n",
    "            {'label': 'CCAFS LC-40', 'value': 'CCAFS LC-40'},\n",
    "            {'label': 'VAFB SLC-4E', 'value': 'VAFB SLC-4E'},\n",
    "            {'label': 'KSC LC-39A', 'value': 'KSC LC-39A'},\n",
    "            {'label': 'CCAFS SLC-40', 'value': 'CCAFS SLC-40'}\n",
    "        ],\n",
    "        value='ALL',\n",
    "        placeholder='Select a Launch Site',\n",
    "        searchable=True\n",
    "    ),\n",
    "    html.Br(),\n",
    "\n",
    "    # TASK 2: Pie chart\n",
    "    html.Div(dcc.Graph(id='success-pie-chart')),\n",
    "    html.Br(),\n",
    "\n",
    "    html.P(\"Payload range (Kg):\"),\n",
    "\n",
    "    # TASK 3: Range slider\n",
    "    dcc.RangeSlider(\n",
    "        id='payload-slider',\n",
    "        min=0, max=10000, step=1000,\n",
    "        marks={i: str(i) for i in range(0, 10001, 2000)},\n",
    "        value=[min_payload, max_payload]\n",
    "    ),\n",
    "    html.Br(),\n",
    "\n",
    "    # TASK 4: Scatter plot\n",
    "    html.Div(dcc.Graph(id='success-payload-scatter-chart'))\n",
    "])\n"
   ]
  },
  {
   "cell_type": "markdown",
   "id": "e2aa4ebc",
   "metadata": {},
   "source": [
    "## Callbacks for Interactive Charts"
   ]
  },
  {
   "cell_type": "code",
   "execution_count": 3,
   "id": "e6069cd5",
   "metadata": {},
   "outputs": [],
   "source": [
    "\n",
    "# Callback for Pie Chart\n",
    "@app.callback(\n",
    "    Output(component_id='success-pie-chart', component_property='figure'),\n",
    "    Input(component_id='site-dropdown', component_property='value')\n",
    ")\n",
    "def update_pie(selected_site):\n",
    "    if selected_site == 'ALL':\n",
    "        fig = px.pie(spacex_data_frame, names='Launch Site', values='Class',\n",
    "                     title='Total Successful Launches for All Sites')\n",
    "    else:\n",
    "        filtered_df = spacex_data_frame[spacex_data_frame['Launch Site'] == selected_site]\n",
    "        fig = px.pie(filtered_df, names='Class',\n",
    "                     title=f'Total Success vs Failure for site {selected_site}')\n",
    "    return fig\n",
    "\n",
    "# Callback for Scatter Chart\n",
    "@app.callback(\n",
    "    Output(component_id='success-payload-scatter-chart', component_property='figure'),\n",
    "    [Input(component_id='site-dropdown', component_property='value'),\n",
    "     Input(component_id='payload-slider', component_property='value')]\n",
    ")\n",
    "def update_scatter(selected_site, payload_range):\n",
    "    low, high = payload_range\n",
    "    filtered_df = spacex_data_frame[(spacex_data_frame['Payload Mass (kg)'] >= low) & \n",
    "                                    (spacex_data_frame['Payload Mass (kg)'] <= high)]\n",
    "    if selected_site != 'ALL':\n",
    "        filtered_df = filtered_df[filtered_df['Launch Site'] == selected_site]\n",
    "    fig = px.scatter(filtered_df, x='Payload Mass (kg)', y='Class',\n",
    "                     color='Booster Version',\n",
    "                     title='Correlation between Payload and Launch Outcome')\n",
    "    return fig\n"
   ]
  },
  {
   "cell_type": "markdown",
   "id": "c758e869",
   "metadata": {},
   "source": [
    "## Run the App"
   ]
  },
  {
   "cell_type": "code",
   "execution_count": 4,
   "id": "d85e2aa8",
   "metadata": {},
   "outputs": [
    {
     "data": {
      "text/html": [
       "\n",
       "        <iframe\n",
       "            width=\"100%\"\n",
       "            height=\"650\"\n",
       "            src=\"http://127.0.0.1:8050/\"\n",
       "            frameborder=\"0\"\n",
       "            allowfullscreen\n",
       "            \n",
       "        ></iframe>\n",
       "        "
      ],
      "text/plain": [
       "<IPython.lib.display.IFrame at 0x215ef31f230>"
      ]
     },
     "metadata": {},
     "output_type": "display_data"
    }
   ],
   "source": [
    "if __name__ == '__main__':\n",
    "    app.run(debug=True)\n",
    "\n"
   ]
  }
 ],
 "metadata": {
  "kernelspec": {
   "display_name": "Python 3",
   "language": "python",
   "name": "python3"
  },
  "language_info": {
   "codemirror_mode": {
    "name": "ipython",
    "version": 3
   },
   "file_extension": ".py",
   "mimetype": "text/x-python",
   "name": "python",
   "nbconvert_exporter": "python",
   "pygments_lexer": "ipython3",
   "version": "3.13.5"
  }
 },
 "nbformat": 4,
 "nbformat_minor": 5
}
